{
 "cells": [
  {
   "cell_type": "code",
   "execution_count": 17,
   "metadata": {},
   "outputs": [
    {
     "name": "stdout",
     "output_type": "stream",
     "text": [
      "False\n"
     ]
    }
   ],
   "source": [
    "n=\"()\"\n",
    "k=\"[]\"\n",
    "s=\"{}\"\n",
    "result=False\n",
    "par=(input(\"Enter your paranthesis: \"))\n",
    "ani=par.find(n[0])\n",
    "aki=par.find(k[0])\n",
    "asi=par.find(s[0]) \n",
    "if par.count(\"(\")==par.count(\")\") and par.count(\"[\")==par.count(\"]\") and par.count(\"{\") and par.count(\"}\"):\n",
    "    if len(par)%2==0:\n",
    "        if par.find(n)>-1:\n",
    "            for i in range(ani+1,len(par)+1,2):\n",
    "                if par[i]==\")\":\n",
    "                    result=True\n",
    "                    break\n",
    "                else:\n",
    "                    result=False\n",
    "        else:\n",
    "            resul=False\n",
    "        if par.find(k)>-1:\n",
    "            for i in range(aki+1,len(par)+1,2):\n",
    "                if par[i]==\"]\":\n",
    "                    result=True\n",
    "                    break\n",
    "                else:\n",
    "                    result=False\n",
    "        if par.find(s)>-1:\n",
    "            for i in range(asi+1,len(par)+1,2):\n",
    "                if par[i]==\"}\":\n",
    "                    result=True\n",
    "                    break\n",
    "                else:\n",
    "                    result=False\n",
    "        \n",
    "    else:\n",
    "        result=False\n",
    "else:\n",
    "    result=False\n",
    "                            \n",
    "print(result)\n"
   ]
  }
 ],
 "metadata": {
  "interpreter": {
   "hash": "fd2207e9aff349e1f968e75c37517a375afe88c92786151a087c5d934a98b86a"
  },
  "kernelspec": {
   "display_name": "Python 3.9.6 64-bit",
   "language": "python",
   "name": "python3"
  },
  "language_info": {
   "codemirror_mode": {
    "name": "ipython",
    "version": 3
   },
   "file_extension": ".py",
   "mimetype": "text/x-python",
   "name": "python",
   "nbconvert_exporter": "python",
   "pygments_lexer": "ipython3",
   "version": "3.9.6"
  },
  "orig_nbformat": 4
 },
 "nbformat": 4,
 "nbformat_minor": 2
}
